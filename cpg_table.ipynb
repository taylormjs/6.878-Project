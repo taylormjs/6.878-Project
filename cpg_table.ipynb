{
 "cells": [
  {
   "cell_type": "markdown",
   "metadata": {},
   "source": [
    "# Make table for CpG Islands"
   ]
  },
  {
   "cell_type": "code",
   "execution_count": 2,
   "metadata": {},
   "outputs": [],
   "source": [
    "m2018_islands = {'cg04410003': 0.106409073,\n",
    " 'cg26362430': 0.40017128,\n",
    " 'cg08871177': 0.940196276,\n",
    " 'cg01781446': 0.6628994940000001,\n",
    " 'cg20900986': 0.562952995,\n",
    " 'cg22392876': 0.301723242,\n",
    " 'cg01763436': 2.5875089150000004,\n",
    " 'cg08224569': 0.12811553500000003,\n",
    " 'cg18144988': 3.76699543,\n",
    " 'cg03793625': 2.3879392099999994,\n",
    " 'cg12831026': 0.47966134500000007,\n",
    " 'cg11742472': 0.00679457188,\n",
    " 'cg24669183': 1.46578145,\n",
    " 'cg14951525': 0.8317451479999999,\n",
    " 'cg05082111': 10.751942966000001,\n",
    " 'cg06095304': 0.644356966,\n",
    " 'cg10641762': 2.81334734,\n",
    " 'cg09500881': 0.8284044270000002,\n",
    " 'cg06682875': 1.8567512000000002,\n",
    " 'cg21609096': 4.716722904999999,\n",
    " 'cg12536471': 0.3520029190000001,\n",
    " 'cg06770623': 3.119891645,\n",
    " 'cg18859612': 1.6275665775000001,\n",
    " 'cg21228500': 5.148956300000001,\n",
    " 'cg16769623': 1.38299799,\n",
    " 'cg24251814': 1.5888674274999999,\n",
    " 'cg06628693': 3.6237573599999995,\n",
    " 'cg08949487': 0.116085649,\n",
    " 'cg17651255': 11.012748700000001,\n",
    " 'cg09049566': 2.7895725949999997,\n",
    " 'cg12474980': 1.8715181399999998,\n",
    " 'cg17795695': 0.9007589819999999,\n",
    " 'cg06979961': 2.1188618549999996,\n",
    " 'cg21757973': 0.846437216,\n",
    " 'cg07894501': 0.488043308,\n",
    " 'cg25646029': 7.197605609999999,\n",
    " 'cg01014490': 0.2553484439,\n",
    " 'cg01156852': 2.51446915,\n",
    " 'cg21235532': 3.4132442499999995,\n",
    " 'cg17125837': 0.24914610399999998,\n",
    " 'cg08326996': 2.28747559,\n",
    " 'cg23286660': 1.4650639299999997,\n",
    " 'cg24646414': 0.9043037300000001,\n",
    " 'cg20116808': 1.18736148,\n",
    " 'cg24746368': 4.386759117799999,\n",
    " 'cg04724866': 5.28202152,\n",
    " 'cg18865112': 0.41668033599999993,\n",
    " 'cg27526774': 5.1638577575,\n",
    " 'cg20039983': 7.431929589999998,\n",
    " 'cg16352085': 1.48931623,\n",
    " 'cg10692041': 0.502794862,\n",
    " 'cg17498856': 0.3197999,\n",
    " 'cg00901375': 2.0755741599999995,\n",
    " 'cg03850057': 0.078234911,\n",
    " 'cg00977696': 0.6136637929999998,\n",
    " 'cg25767649': 4.24080944,\n",
    " 'cg26679879': 2.6053934100000005,\n",
    " 'cg12668122': 2.2850034199999993,\n",
    " 'cg04029236': 1.1528348899999998,\n",
    " 'cg08003943': 0.6491965650000001,\n",
    " 'cg22836809': 0.23363934499999994,\n",
    " 'cg26928153': 0.155844122,\n",
    " 'cg06212529': 0.915943146,\n",
    " 'cg25654768': 2.3090385200000005,\n",
    " 'cg01203651': 0.0861401558,\n",
    " 'cg11143486': 1.1563091300000001,\n",
    " 'cg08072911': 0.6316583160000001,\n",
    " 'cg02707993': 0.7563385960000001,\n",
    " 'cg22519184': 0.056127548199999995}"
   ]
  },
  {
   "cell_type": "code",
   "execution_count": 31,
   "metadata": {},
   "outputs": [],
   "source": [
    "def read_islands(file):\n",
    "    cpg_islands = []\n",
    "    with open(file, 'r') as f:\n",
    "        for line in f.readlines():\n",
    "            if line[0] == '(':\n",
    "                cpg_islands.append(line[2:12])\n",
    "    return cpg_islands\n",
    "        \n",
    "islands_2018 = set(read_islands('m2018_ac_report_quality_test.020'))\n",
    "islands_2015 = set(read_islands('m2015_ac_report_quality'))"
   ]
  },
  {
   "cell_type": "code",
   "execution_count": 43,
   "metadata": {
    "collapsed": true,
    "jupyter": {
     "outputs_hidden": true
    }
   },
   "outputs": [
    {
     "name": "stdout",
     "output_type": "stream",
     "text": [
      "22\n",
      "68\n"
     ]
    },
    {
     "data": {
      "text/plain": [
       "{'cg02014020',\n",
       " 'cg03089945',\n",
       " 'cg03127656',\n",
       " 'cg04018879',\n",
       " 'cg04926200',\n",
       " 'cg10207527',\n",
       " 'cg12726839',\n",
       " 'cg12743165',\n",
       " 'cg13792045',\n",
       " 'cg13839293',\n",
       " 'cg13938959',\n",
       " 'cg14324200',\n",
       " 'cg15706040',\n",
       " 'cg16347928',\n",
       " 'cg19642727',\n",
       " 'cg21647626',\n",
       " 'cg22618402',\n",
       " 'cg22699361',\n",
       " 'cg23596291',\n",
       " 'cg23906001',\n",
       " 'cg26647324',\n",
       " 'cg27156259'}"
      ]
     },
     "execution_count": 43,
     "metadata": {},
     "output_type": "execute_result"
    }
   ],
   "source": [
    "print(len(islands_2015))\n",
    "print(len(islands_2018))\n",
    "islands_2015"
   ]
  },
  {
   "cell_type": "code",
   "execution_count": 45,
   "metadata": {},
   "outputs": [
    {
     "data": {
      "text/plain": [
       "90"
      ]
     },
     "execution_count": 45,
     "metadata": {},
     "output_type": "execute_result"
    }
   ],
   "source": [
    "len(islands_2015.union(islands_2018))"
   ]
  },
  {
   "cell_type": "code",
   "execution_count": 61,
   "metadata": {},
   "outputs": [],
   "source": [
    "def read_txt(file):\n",
    "    cpg_islands = []\n",
    "    with open(file, 'r') as f:\n",
    "        for line in f.readlines():\n",
    "            cpg_islands.append(line[:-1])\n",
    "    return cpg_islands\n",
    "\n",
    "epi_2015 = set(read_txt('martino2015_epidish_cpgs.txt'))\n",
    "epi_2018 = set(read_txt('martino2018_epidish_cpgs.txt'))"
   ]
  },
  {
   "cell_type": "code",
   "execution_count": 63,
   "metadata": {},
   "outputs": [
    {
     "name": "stdout",
     "output_type": "stream",
     "text": [
      "94\n",
      "72\n",
      "0\n",
      "166\n"
     ]
    }
   ],
   "source": [
    "print(len(epi_2015))\n",
    "print(len(epi_2018))\n",
    "print(len(epi_2015.intersection(epi_2018)))\n",
    "print(len(epi_2015.union(epi_2018)))"
   ]
  },
  {
   "cell_type": "code",
   "execution_count": 65,
   "metadata": {},
   "outputs": [
    {
     "name": "stdout",
     "output_type": "stream",
     "text": [
      "set()\n",
      "set()\n"
     ]
    }
   ],
   "source": [
    "print(epi_2015&islands_2015)\n",
    "print(epi_2018&islands_2018)"
   ]
  },
  {
   "cell_type": "code",
   "execution_count": 71,
   "metadata": {},
   "outputs": [
    {
     "name": "stdout",
     "output_type": "stream",
     "text": [
      "256\n",
      "256\n"
     ]
    }
   ],
   "source": [
    "print(len(epi_2015^epi_2018^islands_2015^islands_2018))\n",
    "print(len(epi_2015) + len(epi_2018) + len(islands_2015) + len(islands_2018))"
   ]
  },
  {
   "cell_type": "code",
   "execution_count": 72,
   "metadata": {},
   "outputs": [
    {
     "data": {
      "text/plain": [
       "{'cg00200876',\n",
       " 'cg00204501',\n",
       " 'cg00319449',\n",
       " 'cg00862314',\n",
       " 'cg01888206',\n",
       " 'cg02664812',\n",
       " 'cg02701084',\n",
       " 'cg02789526',\n",
       " 'cg03442064',\n",
       " 'cg03745316',\n",
       " 'cg03835824',\n",
       " 'cg04143120',\n",
       " 'cg04276301',\n",
       " 'cg04307531',\n",
       " 'cg04532438',\n",
       " 'cg04568592',\n",
       " 'cg04577451',\n",
       " 'cg05013483',\n",
       " 'cg05245416',\n",
       " 'cg05736120',\n",
       " 'cg07511836',\n",
       " 'cg07982481',\n",
       " 'cg08009184',\n",
       " 'cg08196106',\n",
       " 'cg08337959',\n",
       " 'cg08497917',\n",
       " 'cg08527313',\n",
       " 'cg08644269',\n",
       " 'cg09031823',\n",
       " 'cg09063173',\n",
       " 'cg09234571',\n",
       " 'cg09265397',\n",
       " 'cg09554798',\n",
       " 'cg09981464',\n",
       " 'cg10585584',\n",
       " 'cg10663370',\n",
       " 'cg10724690',\n",
       " 'cg10729496',\n",
       " 'cg11034122',\n",
       " 'cg11554153',\n",
       " 'cg11661868',\n",
       " 'cg11757961',\n",
       " 'cg11939450',\n",
       " 'cg12056977',\n",
       " 'cg12477724',\n",
       " 'cg12498453',\n",
       " 'cg12596692',\n",
       " 'cg12780883',\n",
       " 'cg12814969',\n",
       " 'cg13193548',\n",
       " 'cg13331266',\n",
       " 'cg13485469',\n",
       " 'cg13499600',\n",
       " 'cg13706041',\n",
       " 'cg14144513',\n",
       " 'cg14402955',\n",
       " 'cg14655044',\n",
       " 'cg15168577',\n",
       " 'cg15316118',\n",
       " 'cg15745817',\n",
       " 'cg15840005',\n",
       " 'cg16642517',\n",
       " 'cg16990174',\n",
       " 'cg17156862',\n",
       " 'cg17231571',\n",
       " 'cg17321954',\n",
       " 'cg17629796',\n",
       " 'cg17710911',\n",
       " 'cg18179621',\n",
       " 'cg18509540',\n",
       " 'cg18876007',\n",
       " 'cg19462022',\n",
       " 'cg19907479',\n",
       " 'cg19990402',\n",
       " 'cg20580294',\n",
       " 'cg21242212',\n",
       " 'cg22092114',\n",
       " 'cg22132343',\n",
       " 'cg22143569',\n",
       " 'cg22283488',\n",
       " 'cg22958076',\n",
       " 'cg22965079',\n",
       " 'cg23050227',\n",
       " 'cg23155010',\n",
       " 'cg24589444',\n",
       " 'cg24837277',\n",
       " 'cg24876118',\n",
       " 'cg25091678',\n",
       " 'cg25135801',\n",
       " 'cg26117389',\n",
       " 'cg26246387',\n",
       " 'cg26298273',\n",
       " 'cg26894854',\n",
       " 'cg27147281'}"
      ]
     },
     "execution_count": 72,
     "metadata": {},
     "output_type": "execute_result"
    }
   ],
   "source": [
    "epi_2015"
   ]
  },
  {
   "cell_type": "code",
   "execution_count": null,
   "metadata": {},
   "outputs": [],
   "source": []
  }
 ],
 "metadata": {
  "kernelspec": {
   "display_name": "Python 3",
   "language": "python",
   "name": "python3"
  },
  "language_info": {
   "codemirror_mode": {
    "name": "ipython",
    "version": 3
   },
   "file_extension": ".py",
   "mimetype": "text/x-python",
   "name": "python",
   "nbconvert_exporter": "python",
   "pygments_lexer": "ipython3",
   "version": "3.7.3"
  }
 },
 "nbformat": 4,
 "nbformat_minor": 4
}
